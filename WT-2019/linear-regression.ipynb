{
 "cells": [
  {
   "cell_type": "code",
   "execution_count": 5,
   "metadata": {},
   "outputs": [],
   "source": []
  },
  {
   "cell_type": "code",
   "execution_count": 30,
   "metadata": {},
   "outputs": [
    {
     "data": {
      "text/latex": [
       "\\begin{align}\n",
       "E_{\\textit{train}}(\\textit{h}(\\textbf{x},\\textbf{w})) = \\frac{1}{N}\\sum_{i=0}^{d}(\\textbf{w}^\\textbf{T}\\textbf{x}_n - y_n)^2\n",
       "\\end{align}\n",
       "\n",
       "\\begin{equation}\n",
       "E_{\\textit{train}}(\\textbf{w}) = \\frac{1}{N}\\left||(\\textbf{X}\\textbf{w} - \\textbf{y})^2\\right||\n",
       "\\end{equation}\n",
       "\n",
       "\\begin{equation}\n",
       "E_{\\textit{train}}(\\textbf{w}) = \\frac{1}{N}(\\textbf{w}^\\textbf{T}\\textbf{X}^\\textbf{T}\\textbf{X}\\textbf{w} - 2\\textbf{w}^\\textbf{T}\\textbf{X}^\\textbf{T}\\textbf{y} + \\textbf{y}^\\textbf{T}\\textbf{y} )^2\n",
       "\\end{equation}\n",
       "\n",
       "\\begin{equation}\n",
       "\\nabla E_{\\textit{train}}(\\textbf{w}) = \\frac{2}{N}(\\textbf{X}^\\textbf{T}\\textbf{X}\\textbf{w} - \\textbf{X}^\\textbf{T}\\textbf{y}) = 0\n",
       "\\end{equation}\n",
       "\n",
       "\n",
       "\\begin{equation}\n",
       "\\textbf{X}^\\textbf{T}\\textbf{X}\\textbf{w} = \\textbf{X}^\\textbf{T}\\textbf{y}\n",
       "\\end{equation}\n",
       "\n",
       "\n",
       "\\begin{equation}\n",
       "\\textbf{w}_{\\textit{opt}} = (\\textbf{X}^\\textbf{T}\\textbf{X}\\textbf{w})^{-1}\\textbf{X}^\\textbf{T}\\textbf{y}\n",
       "\\end{equation}\n"
      ],
      "text/plain": [
       "<IPython.core.display.Latex object>"
      ]
     },
     "metadata": {},
     "output_type": "display_data"
    }
   ],
   "source": [
    "%%latex\n",
    "\\begin{align}\n",
    "E_{\\textit{train}}(\\textit{h}(\\textbf{x},\\textbf{w})) = \\frac{1}{N}\\sum_{i=0}^{d}(\\textbf{w}^\\textbf{T}\\textbf{x}_n - y_n)^2\n",
    "\\end{align}\n",
    "\n",
    "\\begin{equation}\n",
    "E_{\\textit{train}}(\\textbf{w}) = \\frac{1}{N}\\left|(\\textbf{X}\\textbf{w} - \\textbf{y})^2\\right|\n",
    "\\end{equation}\n",
    "\n",
    "\\begin{equation}\n",
    "E_{\\textit{train}}(\\textbf{w}) = \\frac{1}{N}(\\textbf{w}^\\textbf{T}\\textbf{X}^\\textbf{T}\\textbf{X}\\textbf{w} - 2\\textbf{w}^\\textbf{T}\\textbf{X}^\\textbf{T}\\textbf{y} + \\textbf{y}^\\textbf{T}\\textbf{y} )^2\n",
    "\\end{equation}\n",
    "\n",
    "\\begin{equation}\n",
    "\\nabla E_{\\textit{train}}(\\textbf{w}) = \\frac{2}{N}(\\textbf{X}^\\textbf{T}\\textbf{X}\\textbf{w} - \\textbf{X}^\\textbf{T}\\textbf{y}) = 0\n",
    "\\end{equation}\n",
    "\n",
    "\n",
    "\\begin{equation}\n",
    "\\textbf{X}^\\textbf{T}\\textbf{X}\\textbf{w} = \\textbf{X}^\\textbf{T}\\textbf{y}\n",
    "\\end{equation}\n",
    "\n",
    "\n",
    "\\begin{equation}\n",
    "\\textbf{w}_{\\textit{opt}} = (\\textbf{X}^\\textbf{T}\\textbf{X}\\textbf{w})^{-1}\\textbf{X}^\\textbf{T}\\textbf{y}\n",
    "\\end{equation}"
   ]
  },
  {
   "cell_type": "code",
   "execution_count": null,
   "metadata": {},
   "outputs": [],
   "source": []
  }
 ],
 "metadata": {
  "kernelspec": {
   "display_name": "Python 3",
   "language": "python",
   "name": "python3"
  },
  "language_info": {
   "codemirror_mode": {
    "name": "ipython",
    "version": 3
   },
   "file_extension": ".py",
   "mimetype": "text/x-python",
   "name": "python",
   "nbconvert_exporter": "python",
   "pygments_lexer": "ipython3",
   "version": "3.7.3"
  }
 },
 "nbformat": 4,
 "nbformat_minor": 2
}
